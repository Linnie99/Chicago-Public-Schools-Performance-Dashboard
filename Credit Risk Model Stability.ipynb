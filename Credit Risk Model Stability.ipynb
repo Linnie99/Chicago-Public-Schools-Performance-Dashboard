{
  "nbformat": 4,
  "nbformat_minor": 0,
  "metadata": {
    "colab": {
      "provenance": [],
      "authorship_tag": "ABX9TyPhaineIbKGeKD8Ht7ZzoUm",
      "include_colab_link": true
    },
    "kernelspec": {
      "name": "python3",
      "display_name": "Python 3"
    },
    "language_info": {
      "name": "python"
    }
  },
  "cells": [
    {
      "cell_type": "markdown",
      "metadata": {
        "id": "view-in-github",
        "colab_type": "text"
      },
      "source": [
        "<a href=\"https://colab.research.google.com/github/Linnie99/visulization.github.io/blob/main/Credit%20Risk%20Model%20Stability.ipynb\" target=\"_parent\"><img src=\"https://colab.research.google.com/assets/colab-badge.svg\" alt=\"Open In Colab\"/></a>"
      ]
    },
    {
      "cell_type": "code",
      "execution_count": 1,
      "metadata": {
        "colab": {
          "base_uri": "https://localhost:8080/"
        },
        "id": "GC92zk-t5vLN",
        "outputId": "0f85ca45-0250-49f1-aa4f-2615518cb52f"
      },
      "outputs": [
        {
          "output_type": "stream",
          "name": "stdout",
          "text": [
            "Requirement already satisfied: kaggle in /usr/local/lib/python3.11/dist-packages (1.6.17)\n",
            "Requirement already satisfied: six>=1.10 in /usr/local/lib/python3.11/dist-packages (from kaggle) (1.17.0)\n",
            "Requirement already satisfied: certifi>=2023.7.22 in /usr/local/lib/python3.11/dist-packages (from kaggle) (2024.12.14)\n",
            "Requirement already satisfied: python-dateutil in /usr/local/lib/python3.11/dist-packages (from kaggle) (2.8.2)\n",
            "Requirement already satisfied: requests in /usr/local/lib/python3.11/dist-packages (from kaggle) (2.32.3)\n",
            "Requirement already satisfied: tqdm in /usr/local/lib/python3.11/dist-packages (from kaggle) (4.67.1)\n",
            "Requirement already satisfied: python-slugify in /usr/local/lib/python3.11/dist-packages (from kaggle) (8.0.4)\n",
            "Requirement already satisfied: urllib3 in /usr/local/lib/python3.11/dist-packages (from kaggle) (2.3.0)\n",
            "Requirement already satisfied: bleach in /usr/local/lib/python3.11/dist-packages (from kaggle) (6.2.0)\n",
            "Requirement already satisfied: webencodings in /usr/local/lib/python3.11/dist-packages (from bleach->kaggle) (0.5.1)\n",
            "Requirement already satisfied: text-unidecode>=1.3 in /usr/local/lib/python3.11/dist-packages (from python-slugify->kaggle) (1.3)\n",
            "Requirement already satisfied: charset-normalizer<4,>=2 in /usr/local/lib/python3.11/dist-packages (from requests->kaggle) (3.4.1)\n",
            "Requirement already satisfied: idna<4,>=2.5 in /usr/local/lib/python3.11/dist-packages (from requests->kaggle) (3.10)\n"
          ]
        }
      ],
      "source": [
        "!pip install kaggle"
      ]
    },
    {
      "cell_type": "code",
      "source": [
        "!mkdir -p ~/.kaggle"
      ],
      "metadata": {
        "id": "sjRehJSp6Ay4"
      },
      "execution_count": 7,
      "outputs": []
    },
    {
      "cell_type": "markdown",
      "source": [
        "Add APi token"
      ],
      "metadata": {
        "id": "zGyzZ05K9qet"
      }
    },
    {
      "cell_type": "code",
      "source": [
        "!cp kaggle.json ~/.kaggle/"
      ],
      "metadata": {
        "id": "ur_cjwAp6BCS"
      },
      "execution_count": 8,
      "outputs": []
    },
    {
      "cell_type": "markdown",
      "source": [
        "Chaging permission of the file to read/write chmod 600"
      ],
      "metadata": {
        "id": "3Wb5XACa9VUh"
      }
    },
    {
      "cell_type": "code",
      "source": [
        "!chmod 600 ~/.kaggle/kaggle.json"
      ],
      "metadata": {
        "id": "DiKfUS8i9IID"
      },
      "execution_count": 9,
      "outputs": []
    },
    {
      "cell_type": "code",
      "source": [
        "! kaggle competitions download home-credit-credit-risk-model-stability"
      ],
      "metadata": {
        "colab": {
          "base_uri": "https://localhost:8080/"
        },
        "id": "JBw8FZac9R14",
        "outputId": "6508384e-36ff-4f05-e68c-8609798ed4c0"
      },
      "execution_count": 10,
      "outputs": [
        {
          "output_type": "stream",
          "name": "stdout",
          "text": [
            "Downloading home-credit-credit-risk-model-stability.zip to /content\n",
            "100% 3.14G/3.14G [00:46<00:00, 124MB/s]\n",
            "100% 3.14G/3.14G [00:46<00:00, 73.3MB/s]\n"
          ]
        }
      ]
    },
    {
      "cell_type": "code",
      "source": [
        "#unzip the file\n",
        "! unzip home-credit-credit-risk-model-stability.zip"
      ],
      "metadata": {
        "colab": {
          "base_uri": "https://localhost:8080/"
        },
        "id": "BY_QB3JA9R_h",
        "outputId": "bd82e4f1-39e3-4cd6-8f5a-f743f4f7cb67"
      },
      "execution_count": 11,
      "outputs": [
        {
          "output_type": "stream",
          "name": "stdout",
          "text": [
            "Archive:  home-credit-credit-risk-model-stability.zip\n",
            "  inflating: csv_files/test/test_applprev_1_0.csv  \n",
            "  inflating: csv_files/test/test_applprev_1_1.csv  \n",
            "  inflating: csv_files/test/test_applprev_1_2.csv  \n",
            "  inflating: csv_files/test/test_applprev_2.csv  \n",
            "  inflating: csv_files/test/test_base.csv  \n",
            "  inflating: csv_files/test/test_credit_bureau_a_1_0.csv  \n",
            "  inflating: csv_files/test/test_credit_bureau_a_1_1.csv  \n",
            "  inflating: csv_files/test/test_credit_bureau_a_1_2.csv  \n",
            "  inflating: csv_files/test/test_credit_bureau_a_1_3.csv  \n",
            "  inflating: csv_files/test/test_credit_bureau_a_1_4.csv  \n",
            "  inflating: csv_files/test/test_credit_bureau_a_2_0.csv  \n",
            "  inflating: csv_files/test/test_credit_bureau_a_2_1.csv  \n",
            "  inflating: csv_files/test/test_credit_bureau_a_2_10.csv  \n",
            "  inflating: csv_files/test/test_credit_bureau_a_2_11.csv  \n",
            "  inflating: csv_files/test/test_credit_bureau_a_2_2.csv  \n",
            "  inflating: csv_files/test/test_credit_bureau_a_2_3.csv  \n",
            "  inflating: csv_files/test/test_credit_bureau_a_2_4.csv  \n",
            "  inflating: csv_files/test/test_credit_bureau_a_2_5.csv  \n",
            "  inflating: csv_files/test/test_credit_bureau_a_2_6.csv  \n",
            "  inflating: csv_files/test/test_credit_bureau_a_2_7.csv  \n",
            "  inflating: csv_files/test/test_credit_bureau_a_2_8.csv  \n",
            "  inflating: csv_files/test/test_credit_bureau_a_2_9.csv  \n",
            "  inflating: csv_files/test/test_credit_bureau_b_1.csv  \n",
            "  inflating: csv_files/test/test_credit_bureau_b_2.csv  \n",
            "  inflating: csv_files/test/test_debitcard_1.csv  \n",
            "  inflating: csv_files/test/test_deposit_1.csv  \n",
            "  inflating: csv_files/test/test_other_1.csv  \n",
            "  inflating: csv_files/test/test_person_1.csv  \n",
            "  inflating: csv_files/test/test_person_2.csv  \n",
            "  inflating: csv_files/test/test_static_0_0.csv  \n",
            "  inflating: csv_files/test/test_static_0_1.csv  \n",
            "  inflating: csv_files/test/test_static_0_2.csv  \n",
            "  inflating: csv_files/test/test_static_cb_0.csv  \n",
            "  inflating: csv_files/test/test_tax_registry_a_1.csv  \n",
            "  inflating: csv_files/test/test_tax_registry_b_1.csv  \n",
            "  inflating: csv_files/test/test_tax_registry_c_1.csv  \n",
            "  inflating: csv_files/train/train_applprev_1_0.csv  \n",
            "  inflating: csv_files/train/train_applprev_1_1.csv  \n",
            "  inflating: csv_files/train/train_applprev_2.csv  \n",
            "  inflating: csv_files/train/train_base.csv  \n",
            "  inflating: csv_files/train/train_credit_bureau_a_1_0.csv  \n",
            "  inflating: csv_files/train/train_credit_bureau_a_1_1.csv  \n",
            "  inflating: csv_files/train/train_credit_bureau_a_1_2.csv  \n",
            "  inflating: csv_files/train/train_credit_bureau_a_1_3.csv  \n",
            "  inflating: csv_files/train/train_credit_bureau_a_2_0.csv  \n",
            "  inflating: csv_files/train/train_credit_bureau_a_2_1.csv  \n",
            "  inflating: csv_files/train/train_credit_bureau_a_2_10.csv  \n",
            "  inflating: csv_files/train/train_credit_bureau_a_2_2.csv  \n",
            "  inflating: csv_files/train/train_credit_bureau_a_2_3.csv  \n",
            "  inflating: csv_files/train/train_credit_bureau_a_2_4.csv  \n",
            "  inflating: csv_files/train/train_credit_bureau_a_2_5.csv  \n",
            "  inflating: csv_files/train/train_credit_bureau_a_2_6.csv  \n",
            "  inflating: csv_files/train/train_credit_bureau_a_2_7.csv  \n",
            "  inflating: csv_files/train/train_credit_bureau_a_2_8.csv  \n",
            "  inflating: csv_files/train/train_credit_bureau_a_2_9.csv  \n",
            "  inflating: csv_files/train/train_credit_bureau_b_1.csv  \n",
            "  inflating: csv_files/train/train_credit_bureau_b_2.csv  \n",
            "  inflating: csv_files/train/train_debitcard_1.csv  \n",
            "  inflating: csv_files/train/train_deposit_1.csv  \n",
            "  inflating: csv_files/train/train_other_1.csv  \n",
            "  inflating: csv_files/train/train_person_1.csv  \n",
            "  inflating: csv_files/train/train_person_2.csv  \n",
            "  inflating: csv_files/train/train_static_0_0.csv  \n",
            "  inflating: csv_files/train/train_static_0_1.csv  \n",
            "  inflating: csv_files/train/train_static_cb_0.csv  \n",
            "  inflating: csv_files/train/train_tax_registry_a_1.csv  \n",
            "  inflating: csv_files/train/train_tax_registry_b_1.csv  \n",
            "  inflating: csv_files/train/train_tax_registry_c_1.csv  \n",
            "  inflating: feature_definitions.csv  \n",
            "  inflating: parquet_files/test/test_applprev_1_0.parquet  \n",
            "  inflating: parquet_files/test/test_applprev_1_1.parquet  \n",
            "  inflating: parquet_files/test/test_applprev_1_2.parquet  \n",
            "  inflating: parquet_files/test/test_applprev_2.parquet  \n",
            "  inflating: parquet_files/test/test_base.parquet  \n",
            "  inflating: parquet_files/test/test_credit_bureau_a_1_0.parquet  \n",
            "  inflating: parquet_files/test/test_credit_bureau_a_1_1.parquet  \n",
            "  inflating: parquet_files/test/test_credit_bureau_a_1_2.parquet  \n",
            "  inflating: parquet_files/test/test_credit_bureau_a_1_3.parquet  \n",
            "  inflating: parquet_files/test/test_credit_bureau_a_1_4.parquet  \n",
            "  inflating: parquet_files/test/test_credit_bureau_a_2_0.parquet  \n",
            "  inflating: parquet_files/test/test_credit_bureau_a_2_1.parquet  \n",
            "  inflating: parquet_files/test/test_credit_bureau_a_2_10.parquet  \n",
            "  inflating: parquet_files/test/test_credit_bureau_a_2_11.parquet  \n",
            "  inflating: parquet_files/test/test_credit_bureau_a_2_2.parquet  \n",
            "  inflating: parquet_files/test/test_credit_bureau_a_2_3.parquet  \n",
            "  inflating: parquet_files/test/test_credit_bureau_a_2_4.parquet  \n",
            "  inflating: parquet_files/test/test_credit_bureau_a_2_5.parquet  \n",
            "  inflating: parquet_files/test/test_credit_bureau_a_2_6.parquet  \n",
            "  inflating: parquet_files/test/test_credit_bureau_a_2_7.parquet  \n",
            "  inflating: parquet_files/test/test_credit_bureau_a_2_8.parquet  \n",
            "  inflating: parquet_files/test/test_credit_bureau_a_2_9.parquet  \n",
            "  inflating: parquet_files/test/test_credit_bureau_b_1.parquet  \n",
            "  inflating: parquet_files/test/test_credit_bureau_b_2.parquet  \n",
            "  inflating: parquet_files/test/test_debitcard_1.parquet  \n",
            "  inflating: parquet_files/test/test_deposit_1.parquet  \n",
            "  inflating: parquet_files/test/test_other_1.parquet  \n",
            "  inflating: parquet_files/test/test_person_1.parquet  \n",
            "  inflating: parquet_files/test/test_person_2.parquet  \n",
            "  inflating: parquet_files/test/test_static_0_0.parquet  \n",
            "  inflating: parquet_files/test/test_static_0_1.parquet  \n",
            "  inflating: parquet_files/test/test_static_0_2.parquet  \n",
            "  inflating: parquet_files/test/test_static_cb_0.parquet  \n",
            "  inflating: parquet_files/test/test_tax_registry_a_1.parquet  \n",
            "  inflating: parquet_files/test/test_tax_registry_b_1.parquet  \n",
            "  inflating: parquet_files/test/test_tax_registry_c_1.parquet  \n",
            "  inflating: parquet_files/train/train_applprev_1_0.parquet  \n",
            "  inflating: parquet_files/train/train_applprev_1_1.parquet  \n",
            "  inflating: parquet_files/train/train_applprev_2.parquet  \n",
            "  inflating: parquet_files/train/train_base.parquet  \n",
            "  inflating: parquet_files/train/train_credit_bureau_a_1_0.parquet  \n",
            "  inflating: parquet_files/train/train_credit_bureau_a_1_1.parquet  \n",
            "  inflating: parquet_files/train/train_credit_bureau_a_1_2.parquet  \n",
            "  inflating: parquet_files/train/train_credit_bureau_a_1_3.parquet  \n",
            "  inflating: parquet_files/train/train_credit_bureau_a_2_0.parquet  \n",
            "  inflating: parquet_files/train/train_credit_bureau_a_2_1.parquet  \n",
            "  inflating: parquet_files/train/train_credit_bureau_a_2_10.parquet  \n",
            "  inflating: parquet_files/train/train_credit_bureau_a_2_2.parquet  \n",
            "  inflating: parquet_files/train/train_credit_bureau_a_2_3.parquet  \n",
            "  inflating: parquet_files/train/train_credit_bureau_a_2_4.parquet  \n",
            "  inflating: parquet_files/train/train_credit_bureau_a_2_5.parquet  \n",
            "  inflating: parquet_files/train/train_credit_bureau_a_2_6.parquet  \n",
            "  inflating: parquet_files/train/train_credit_bureau_a_2_7.parquet  \n",
            "  inflating: parquet_files/train/train_credit_bureau_a_2_8.parquet  \n",
            "  inflating: parquet_files/train/train_credit_bureau_a_2_9.parquet  \n",
            "  inflating: parquet_files/train/train_credit_bureau_b_1.parquet  \n",
            "  inflating: parquet_files/train/train_credit_bureau_b_2.parquet  \n",
            "  inflating: parquet_files/train/train_debitcard_1.parquet  \n",
            "  inflating: parquet_files/train/train_deposit_1.parquet  \n",
            "  inflating: parquet_files/train/train_other_1.parquet  \n",
            "  inflating: parquet_files/train/train_person_1.parquet  \n",
            "  inflating: parquet_files/train/train_person_2.parquet  \n",
            "  inflating: parquet_files/train/train_static_0_0.parquet  \n",
            "  inflating: parquet_files/train/train_static_0_1.parquet  \n",
            "  inflating: parquet_files/train/train_static_cb_0.parquet  \n",
            "  inflating: parquet_files/train/train_tax_registry_a_1.parquet  \n",
            "  inflating: parquet_files/train/train_tax_registry_b_1.parquet  \n",
            "  inflating: parquet_files/train/train_tax_registry_c_1.parquet  \n",
            "  inflating: sample_submission.csv   \n"
          ]
        }
      ]
    },
    {
      "cell_type": "code",
      "source": [],
      "metadata": {
        "id": "uJB5qaGHBrF7"
      },
      "execution_count": null,
      "outputs": []
    }
  ]
}